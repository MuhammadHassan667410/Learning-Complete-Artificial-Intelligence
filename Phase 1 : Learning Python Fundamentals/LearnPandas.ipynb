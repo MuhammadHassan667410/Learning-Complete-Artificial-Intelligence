{
  "nbformat": 4,
  "nbformat_minor": 0,
  "metadata": {
    "colab": {
      "provenance": [],
      "authorship_tag": "ABX9TyPb2K0ys9qhhKcshakc0C2K",
      "include_colab_link": true
    },
    "kernelspec": {
      "name": "python3",
      "display_name": "Python 3"
    },
    "language_info": {
      "name": "python"
    }
  },
  "cells": [
    {
      "cell_type": "markdown",
      "metadata": {
        "id": "view-in-github",
        "colab_type": "text"
      },
      "source": [
        "<a href=\"https://colab.research.google.com/github/MuhammadHassan667410/Learning-Complete-Artificial-Intelligence/blob/main/Phase%201%20%3A%20Learning%20Python%20Fundamentals/LearnPandas.ipynb\" target=\"_parent\"><img src=\"https://colab.research.google.com/assets/colab-badge.svg\" alt=\"Open In Colab\"/></a>"
      ]
    },
    {
      "cell_type": "code",
      "execution_count": null,
      "metadata": {
        "id": "toTe-sRYP_2Y"
      },
      "outputs": [],
      "source": [
        "import pandas as pd"
      ]
    },
    {
      "cell_type": "code",
      "source": [
        "data = pd.read_csv('/content/sample_data/pokemon_data.csv')"
      ],
      "metadata": {
        "id": "g3YXMROXKi6L"
      },
      "execution_count": null,
      "outputs": []
    },
    {
      "cell_type": "code",
      "source": [
        "print(data)"
      ],
      "metadata": {
        "id": "USRyLFqGTITh"
      },
      "execution_count": null,
      "outputs": []
    },
    {
      "cell_type": "code",
      "source": [
        "# just lOAD TOP data of the file\n",
        "print(data.head)"
      ],
      "metadata": {
        "id": "zX91ocG6UmMu"
      },
      "execution_count": null,
      "outputs": []
    },
    {
      "cell_type": "code",
      "source": [
        "# just bottom data\n",
        "print(data.tail(1))"
      ],
      "metadata": {
        "id": "z74dWj6IVKx3"
      },
      "execution_count": null,
      "outputs": []
    },
    {
      "cell_type": "code",
      "source": [
        "# load xls file\n",
        "data_xls = pd.read_excel('/content/sample_data/pokemon_data.xlsx')\n",
        "print(data_xls.head(2))"
      ],
      "metadata": {
        "id": "appsx5ZaVc8Y"
      },
      "execution_count": null,
      "outputs": []
    },
    {
      "cell_type": "code",
      "source": [
        "# load txt file\n",
        "data_txt = pd.read_csv('/content/sample_data/pokemon_data.txt', delimiter='\\t')\n",
        "print(data_txt.head(2))"
      ],
      "metadata": {
        "id": "DI6mIKsiXaiE"
      },
      "execution_count": null,
      "outputs": []
    },
    {
      "cell_type": "code",
      "source": [
        "# read header\n",
        "print(data.columns)"
      ],
      "metadata": {
        "id": "KUWlfZL_YGRs"
      },
      "execution_count": null,
      "outputs": []
    },
    {
      "cell_type": "code",
      "source": [
        "# read a specific colunm\n",
        "print(data['Legendary'][0:4])"
      ],
      "metadata": {
        "id": "qOBX3uXwYieN"
      },
      "execution_count": null,
      "outputs": []
    },
    {
      "cell_type": "code",
      "source": [
        "# read different colunms\n",
        "print(data[['Name','Speed','Legendary']][0:4])"
      ],
      "metadata": {
        "id": "Aiq69fU_ZDZs"
      },
      "execution_count": null,
      "outputs": []
    },
    {
      "cell_type": "code",
      "source": [
        "# read a specific row\n",
        "print(data.iloc[2])"
      ],
      "metadata": {
        "id": "pGcroWiqfwMk"
      },
      "execution_count": null,
      "outputs": []
    },
    {
      "cell_type": "code",
      "source": [
        "# read a specific position\n",
        "print(data.iloc[2,1])"
      ],
      "metadata": {
        "id": "9uPr7GWlhKmD"
      },
      "execution_count": null,
      "outputs": []
    },
    {
      "cell_type": "code",
      "source": [
        "print(data.loc[data['Type 1'] == 'Grass'])"
      ],
      "metadata": {
        "id": "vTmRqtmQiLLl"
      },
      "execution_count": null,
      "outputs": []
    },
    {
      "cell_type": "markdown",
      "source": [
        "Sorting/Describing data Data"
      ],
      "metadata": {
        "id": "moVTmSwKlO9u"
      }
    },
    {
      "cell_type": "code",
      "source": [
        "# describing\n",
        "data.describe()"
      ],
      "metadata": {
        "id": "NfMrLAU0lYM9"
      },
      "execution_count": null,
      "outputs": []
    },
    {
      "cell_type": "code",
      "source": [
        "# sorting alphabatically\n",
        "data.sort_values('Name')\n",
        "# descending\n",
        "data.sort_values('Name', ascending=False)\n",
        "# sort alphabatically with defense\n",
        "data.sort_values(['Defense'])\n",
        "# sort with Name and Speed with speed descending\n",
        "data.sort_values(['Name','Speed'], ascending=[1,0])"
      ],
      "metadata": {
        "id": "reJ5WUO7l8oK"
      },
      "execution_count": null,
      "outputs": []
    },
    {
      "cell_type": "markdown",
      "source": [
        "Making Changes to data"
      ],
      "metadata": {
        "id": "4hg5xxRsnivW"
      }
    },
    {
      "cell_type": "code",
      "source": [
        "data.head(3)"
      ],
      "metadata": {
        "id": "4lB8nVdloLBt"
      },
      "execution_count": null,
      "outputs": []
    },
    {
      "cell_type": "code",
      "source": [
        "# a new colunm with the sum of colunms 4 to 9\n",
        "data['Total'] = data.iloc[:, 4:10].sum(axis=1)\n",
        "data.head(3)"
      ],
      "metadata": {
        "id": "m7azywsdrBcw"
      },
      "execution_count": null,
      "outputs": []
    },
    {
      "cell_type": "code",
      "source": [
        "#  Using dataframe data: Remove colunm 12\n",
        "\n",
        "# Dropping the column at index 12 (13th column)\n",
        "data = data.drop(data.columns[12], axis=1)\n",
        "data.head(3)"
      ],
      "metadata": {
        "id": "TrcEU5G-quyP"
      },
      "execution_count": null,
      "outputs": []
    },
    {
      "cell_type": "code",
      "source": [
        "# Save this data into a csv file\n",
        "data.to_csv('modified.csv', index=False)\n",
        "# read this new file\n",
        "data_modified = pd.read_csv('/content/modified.csv')\n",
        "data_modified.head(3)"
      ],
      "metadata": {
        "id": "cYF-Im-lt-aN"
      },
      "execution_count": null,
      "outputs": []
    },
    {
      "cell_type": "markdown",
      "source": [
        "Filtring Data"
      ],
      "metadata": {
        "id": "eo3ovgew0yfV"
      }
    },
    {
      "cell_type": "code",
      "source": [
        "df = pd.read_csv('/content/sample_data/pokemon_data.csv')\n",
        "# print the rows with Type 1 = Grass and Type 2 = poison and remove index while saving it\n",
        "filt_data = df.loc[(df['Type 1'] == 'Grass') & (df['Type 2'] == 'Poison')]\n",
        "filt_data.to_csv('filtered.csv', index=False)"
      ],
      "metadata": {
        "id": "8CSabOYG0QgH"
      },
      "execution_count": null,
      "outputs": []
    },
    {
      "cell_type": "code",
      "source": [
        "# Read original pokemon_data.csv file\n",
        "df = pd.read_csv('/content/sample_data/pokemon_data.csv')\n",
        "df"
      ],
      "metadata": {
        "id": "sDMYh0Yd6OCN"
      },
      "execution_count": null,
      "outputs": []
    },
    {
      "cell_type": "code",
      "source": [
        "# Get rows cotaining string Mega\n",
        "df.loc[df['Name'].str.contains('Mega')]\n",
        "# Get rows not containg string Mega\n",
        "df.loc[~df['Name'].str.contains('Mega')]"
      ],
      "metadata": {
        "id": "zP3g0g3aB_JX"
      },
      "execution_count": null,
      "outputs": []
    },
    {
      "cell_type": "code",
      "source": [
        "# get rows containg Type 1 = Grass or Fire\n",
        "df.loc[df['Type 1'].str.contains('Grass|Fire')]"
      ],
      "metadata": {
        "id": "zBz0wLRWCR1E"
      },
      "execution_count": null,
      "outputs": []
    },
    {
      "cell_type": "code",
      "source": [
        "df.loc[df['Type 1'].str.contains('Grass|Fire')]"
      ],
      "metadata": {
        "id": "9PA2cbN9DHxC"
      },
      "execution_count": null,
      "outputs": []
    },
    {
      "cell_type": "code",
      "source": [
        "# Get rows containg Names starting with Pi\n",
        "import re\n",
        "df.loc[df['Name'].str.contains('^pi[a-z]*', flags=re.I, regex=True)]\n",
        "#"
      ],
      "metadata": {
        "id": "ZhgdApxqEkc2"
      },
      "execution_count": null,
      "outputs": []
    },
    {
      "cell_type": "markdown",
      "source": [
        "Conditional changes"
      ],
      "metadata": {
        "id": "P6jQ84fnGyZY"
      }
    },
    {
      "cell_type": "code",
      "source": [
        "# change Poison to venom and vice versa in Type 2\n",
        "df.loc[df['Type 2']=='Venom','Type 2'] = 'Poison'\n",
        "df.loc[df['Type 1']=='Flamer','Type 1'] = 'Fire'\n",
        "# All rows with Attack > 100 are legendary\n",
        "df.loc[df['Attack'] > 100, 'Legendary'] = True\n",
        "df"
      ],
      "metadata": {
        "id": "4EV9FSuGG2vX"
      },
      "execution_count": null,
      "outputs": []
    },
    {
      "cell_type": "markdown",
      "source": [
        " Aggregate Statistics(Groupby)\n",
        "\n"
      ],
      "metadata": {
        "id": "cP9quGmEJvAB"
      }
    },
    {
      "cell_type": "code",
      "source": [
        "# Statistics of type 1 excluding the columns containing strings\n",
        "df = pd.read_csv('/content/sample_data/pokemon_data.csv')\n",
        "df.groupby(['Type 1']).mean(numeric_only=True).sort_values('Attack', ascending=False)"
      ],
      "metadata": {
        "id": "uK7_bQWTJ698"
      },
      "execution_count": null,
      "outputs": []
    },
    {
      "cell_type": "markdown",
      "source": [
        "Working with Large amount of data"
      ],
      "metadata": {
        "id": "lTLW7INFOab4"
      }
    },
    {
      "cell_type": "code",
      "source": [
        "# Get 3 rows at a time for file pokemon_data.csv and Only get first 3 Chunk df\n",
        "\n",
        "df = pd.read_csv('/content/sample_data/pokemon_data.csv', chunksize=3)\n",
        "for chunk in df:\n",
        "  print('chunk df')\n",
        "  print(chunk)\n",
        "\n",
        "\n",
        "\n"
      ],
      "metadata": {
        "id": "O_rpKO_XOght"
      },
      "execution_count": null,
      "outputs": []
    }
  ]
}