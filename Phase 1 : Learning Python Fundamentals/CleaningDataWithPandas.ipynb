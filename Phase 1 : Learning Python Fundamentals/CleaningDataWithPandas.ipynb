{
  "nbformat": 4,
  "nbformat_minor": 0,
  "metadata": {
    "colab": {
      "provenance": [],
      "include_colab_link": true
    },
    "kernelspec": {
      "name": "python3",
      "display_name": "Python 3"
    },
    "language_info": {
      "name": "python"
    }
  },
  "cells": [
    {
      "cell_type": "markdown",
      "metadata": {
        "id": "view-in-github",
        "colab_type": "text"
      },
      "source": [
        "<a href=\"https://colab.research.google.com/github/MuhammadHassan667410/Learning-Complete-Artificial-Intelligence/blob/main/Phase%201%20%3A%20Learning%20Python%20Fundamentals/CleaningDataWithPandas.ipynb\" target=\"_parent\"><img src=\"https://colab.research.google.com/assets/colab-badge.svg\" alt=\"Open In Colab\"/></a>"
      ]
    },
    {
      "cell_type": "code",
      "source": [
        "import pandas as pd"
      ],
      "metadata": {
        "id": "2SlZBdLZtx0F"
      },
      "execution_count": null,
      "outputs": []
    },
    {
      "cell_type": "code",
      "source": [
        "# load my_data.csv file\n",
        "df = pd.read_csv('/content/my_data.csv')\n",
        "df"
      ],
      "metadata": {
        "id": "fFuYQH3Ey3Yt"
      },
      "execution_count": null,
      "outputs": []
    },
    {
      "cell_type": "code",
      "source": [
        "# Remove spaces in the colunm\n",
        "df.columns = df.columns.str.replace('_', '')\n",
        "df"
      ],
      "metadata": {
        "id": "HqogMwiiInvU"
      },
      "execution_count": null,
      "outputs": []
    },
    {
      "cell_type": "code",
      "source": [
        "# Change FirstName to First Name\n",
        "df.rename(columns={'FirstName': 'First Name'}, inplace=True)\n",
        "# Change Last Name to Last Name\n",
        "df.rename(columns={'LastName': 'Last Name'}, inplace=True)\n",
        "df"
      ],
      "metadata": {
        "id": "GTL5BjpDI824"
      },
      "execution_count": null,
      "outputs": []
    },
    {
      "cell_type": "code",
      "source": [
        "# Remove Spaces In the rows\n",
        "df = df.apply(lambda x: x.str.strip() if x.dtype == \"object\" else x)\n",
        "# Check Duplicates\n",
        "df.duplicated()"
      ],
      "metadata": {
        "id": "WG4_mqJAJjTt"
      },
      "execution_count": null,
      "outputs": []
    },
    {
      "cell_type": "code",
      "source": [
        "# Remove Duplicates\n",
        "df = df.drop_duplicates()\n",
        "df"
      ],
      "metadata": {
        "id": "2Sh57FT2J2Nq"
      },
      "execution_count": null,
      "outputs": []
    },
    {
      "cell_type": "code",
      "source": [
        "# Check missing data\n",
        "df.isnull()"
      ],
      "metadata": {
        "id": "SUkDkxmwJ_OQ"
      },
      "execution_count": null,
      "outputs": []
    },
    {
      "cell_type": "code",
      "source": [
        "# Replace missing data in the first colunm with Martin\n",
        "df['First Name'].fillna('Martin', inplace=True)\n",
        "# Replace missing value in  the second colunm with Stones\n",
        "df['Last Name'].fillna('Stones', inplace=True)\n",
        "# Replace missing value in the third colunm with 28\n",
        "df['Age'].fillna(28, inplace=True)\n",
        "# Replace the missing value in the last colunm with 78\n",
        "df['Score'].fillna(78, inplace=True)\n",
        "df"
      ],
      "metadata": {
        "id": "K89UnK6eKHv7"
      },
      "execution_count": null,
      "outputs": []
    },
    {
      "cell_type": "code",
      "source": [
        "# Save this cleaned Data\n",
        "df.to_csv('cleaned_data.csv', index=False)"
      ],
      "metadata": {
        "id": "63wLzyDhhj0Y"
      },
      "execution_count": null,
      "outputs": []
    }
  ]
}