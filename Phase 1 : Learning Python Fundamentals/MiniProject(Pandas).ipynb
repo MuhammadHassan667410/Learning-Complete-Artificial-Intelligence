{
  "nbformat": 4,
  "nbformat_minor": 0,
  "metadata": {
    "colab": {
      "provenance": [],
      "include_colab_link": true
    },
    "kernelspec": {
      "name": "python3",
      "display_name": "Python 3"
    },
    "language_info": {
      "name": "python"
    }
  },
  "cells": [
    {
      "cell_type": "markdown",
      "metadata": {
        "id": "view-in-github",
        "colab_type": "text"
      },
      "source": [
        "<a href=\"https://colab.research.google.com/github/MuhammadHassan667410/Learning-Complete-Artificial-Intelligence/blob/main/Phase%201%20%3A%20Learning%20Python%20Fundamentals/MiniProject(Pandas).ipynb\" target=\"_parent\"><img src=\"https://colab.research.google.com/assets/colab-badge.svg\" alt=\"Open In Colab\"/></a>"
      ]
    },
    {
      "cell_type": "code",
      "execution_count": null,
      "metadata": {
        "id": "NSR0SvOzUG5A"
      },
      "outputs": [],
      "source": [
        "import pandas as pd\n",
        "df = pd.read_csv('student_data.csv')\n",
        "sorted_df = df.sort_values(by=['marks'], ascending=False)\n",
        "def list_students():\n",
        "  print('List of students with marks:\\n', df.to_string(index=False), '\\n')\n",
        "def top_students():\n",
        "  print('Top three students:\\n', sorted_df.head(3).to_string(index=False), '\\n')\n",
        "def average_marks():\n",
        "  print('Average marks:', df['marks'].mean(), '\\n')\n",
        "def students_with_less_than_50():\n",
        "  print('Students with less than 50 marks:\\n', df[df['marks'] < 50].to_string(index=False), '\\n')\n",
        "\n",
        "while True:\n",
        "  print('--STUDENT DATA--\\n')\n",
        "  print('Select an option:\\n')\n",
        "  print('1. List of students with marks\\n')\n",
        "  print('2. Top three students\\n')\n",
        "  print('3. Average marks\\n')\n",
        "  print('4. Students with less than 50 marks\\n')\n",
        "  print('5. Exit')\n",
        "  option = int(input())\n",
        "  if option == 1:\n",
        "    list_students()\n",
        "  elif option == 2:\n",
        "    top_students()\n",
        "  elif option == 3:\n",
        "    average_marks()\n",
        "  elif option == 4:\n",
        "    students_with_less_than_50()\n",
        "  elif option == 5:\n",
        "    break\n",
        "  else:\n",
        "    print('Invalid option')\n"
      ]
    },
    {
      "cell_type": "code",
      "source": [],
      "metadata": {
        "id": "OoHNymqJwrRV"
      },
      "execution_count": null,
      "outputs": []
    }
  ]
}